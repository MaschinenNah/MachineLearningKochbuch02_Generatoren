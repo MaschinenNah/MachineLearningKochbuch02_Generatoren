{
  "nbformat": 4,
  "nbformat_minor": 0,
  "metadata": {
    "colab": {
      "name": "Generator02_Sinus.ipynb",
      "provenance": [],
      "collapsed_sections": [],
      "authorship_tag": "ABX9TyN22ZWaqJDtMywoaHaRJLKP",
      "include_colab_link": true
    },
    "kernelspec": {
      "name": "python3",
      "display_name": "Python 3"
    }
  },
  "cells": [
    {
      "cell_type": "markdown",
      "metadata": {
        "id": "view-in-github",
        "colab_type": "text"
      },
      "source": [
        "<a href=\"https://colab.research.google.com/github/MaschinenNah/MachineLearningKochbuch02_Generatoren/blob/main/02_Sinus.ipynb\" target=\"_parent\"><img src=\"https://colab.research.google.com/assets/colab-badge.svg\" alt=\"Open In Colab\"/></a>"
      ]
    },
    {
      "cell_type": "code",
      "metadata": {
        "id": "5SLG5mJK98pO"
      },
      "source": [
        "from tensorflow.keras.utils import Sequence\n",
        "import numpy as np\n",
        "import math"
      ],
      "execution_count": 1,
      "outputs": []
    },
    {
      "cell_type": "markdown",
      "metadata": {
        "id": "Ea2KEDF78K0k"
      },
      "source": [
        "Zu Übungszwecken bauen wir uns einen Generator, der Trainingsdaten für ein Modell bereitstellt, das Sinus-Werte berechnen soll. (Das Problem ist trivial, aber überschaubar!)"
      ]
    },
    {
      "cell_type": "code",
      "metadata": {
        "id": "Vc9AP13y_Ajy"
      },
      "source": [
        "class DataGenerator(Sequence):\n",
        "\n",
        "  def __init__(self, len=100, batch_size=10):\n",
        "    self.len = len\n",
        "    self.batch_size = batch_size\n",
        "\n",
        "  def __len__(self):\n",
        "    return self.len\n",
        "\n",
        "  def __getitem__(self, index):\n",
        "    if index >= self.len:\n",
        "      raise IndexError(\"list index out of range\")\n",
        "    else:\n",
        "      # batch_x ist ein Numpy-Array, gefüllt mit Zufallszahlen zwischen 0 und 2 Pi.\n",
        "      # Die shape ist also schlichtweg (batch_size,)\n",
        "      batch_x = np.random.uniform(0, math.pi*2, self.batch_size)\n",
        "      batch_x = batch_x.astype(\"float32\")\n",
        "      # So einfach kann numpy die Sinus-Werte zu jedem einzelnen Element eines Arrays berechnen:\n",
        "      batch_y = np.sin(batch_x)\n",
        "      # Der Rückgabewert ist ein zweistelliges Tupel mit den Numpy-Arrays für x und y.\n",
        "      return batch_x, batch_y"
      ],
      "execution_count": 2,
      "outputs": []
    },
    {
      "cell_type": "markdown",
      "metadata": {
        "id": "172ChbvQ91EG"
      },
      "source": [
        "Hier bauen wir den Trainingsgenerator:"
      ]
    },
    {
      "cell_type": "code",
      "metadata": {
        "id": "u1mfz2gtGolu"
      },
      "source": [
        "train_gen = DataGenerator()"
      ],
      "execution_count": 3,
      "outputs": []
    },
    {
      "cell_type": "markdown",
      "metadata": {
        "id": "VCfLHpGG-M1N"
      },
      "source": [
        "Der erste Batch des Trainingsdaten-Generators:"
      ]
    },
    {
      "cell_type": "code",
      "metadata": {
        "id": "_NFyrP5BGufS",
        "colab": {
          "base_uri": "https://localhost:8080/"
        },
        "outputId": "9a079456-2397-4cd7-a5fe-984df275c40d"
      },
      "source": [
        "print(\"train_gen[0]:\", train_gen[0], \"\\n\")\n",
        "\n",
        "print(\"Der Batch ist ein Objekt vom Typ:\", type(train_gen[0]), \"\\n\")\n",
        "\n",
        "x = train_gen[0][0]\n",
        "print(\"Die Shape von x ist:\", x.shape)\n",
        "\n",
        "y = train_gen[0][1]\n",
        "print(\"Die Shape von y ist:\", y.shape)"
      ],
      "execution_count": 4,
      "outputs": [
        {
          "output_type": "stream",
          "text": [
            "train_gen[0]: (array([0.35382348, 0.14442462, 2.6942117 , 6.0973477 , 2.7403746 ,\n",
            "       4.786617  , 4.2082386 , 6.1080704 , 0.9029279 , 5.161289  ],\n",
            "      dtype=float32), array([ 0.34648696,  0.14392306,  0.4326057 , -0.18476975,  0.39053997,\n",
            "       -0.9972464 , -0.8755852 , -0.1742213 ,  0.78514355, -0.9009249 ],\n",
            "      dtype=float32)) \n",
            "\n",
            "Der Batch ist ein Objekt vom Typ: <class 'tuple'> \n",
            "\n",
            "Die Shape von x ist: (10,)\n",
            "Die Shape von y ist: (10,)\n"
          ],
          "name": "stdout"
        }
      ]
    },
    {
      "cell_type": "markdown",
      "metadata": {
        "id": "B9DR-dW2_G3-"
      },
      "source": [
        "Ein passendes Modell. Passend bedeutet hier erst einmal nur, dass die shapes von Eingang und Ausgang mit den Generator korrespondieren:"
      ]
    },
    {
      "cell_type": "code",
      "metadata": {
        "colab": {
          "base_uri": "https://localhost:8080/"
        },
        "id": "Bl3h84mWHusT",
        "outputId": "1cafe9eb-548e-4280-d561-e6dea9a84d3a"
      },
      "source": [
        "from tensorflow.keras.layers import Input, Flatten, Dense\n",
        "from tensorflow.keras import backend as K\n",
        "from tensorflow.keras.models import Model\n",
        "from tensorflow.keras.optimizers import Adam\n",
        "\n",
        "input_layer = Input(shape=(1,))\n",
        "\n",
        "x = Dense(units=25, activation='tanh')(input_layer)\n",
        "\n",
        "x = Dense(units=25, activation='tanh')(x)\n",
        "\n",
        "output_layer = Dense(units=1, activation='tanh')(x)\n",
        "\n",
        "model = Model(input_layer, output_layer)\n",
        "\n",
        "model.summary()"
      ],
      "execution_count": 6,
      "outputs": [
        {
          "output_type": "stream",
          "text": [
            "Model: \"model_1\"\n",
            "_________________________________________________________________\n",
            "Layer (type)                 Output Shape              Param #   \n",
            "=================================================================\n",
            "input_2 (InputLayer)         [(None, 1)]               0         \n",
            "_________________________________________________________________\n",
            "dense_3 (Dense)              (None, 25)                50        \n",
            "_________________________________________________________________\n",
            "dense_4 (Dense)              (None, 25)                650       \n",
            "_________________________________________________________________\n",
            "dense_5 (Dense)              (None, 1)                 26        \n",
            "=================================================================\n",
            "Total params: 726\n",
            "Trainable params: 726\n",
            "Non-trainable params: 0\n",
            "_________________________________________________________________\n"
          ],
          "name": "stdout"
        }
      ]
    },
    {
      "cell_type": "markdown",
      "metadata": {
        "id": "aZBfcnWD_cjY"
      },
      "source": [
        "Wie gehabt – Der Optimizer:"
      ]
    },
    {
      "cell_type": "code",
      "metadata": {
        "id": "0Flc_UkfIQgM"
      },
      "source": [
        "optimizer = Adam(learning_rate=0.0005)\n",
        "\n",
        "def loss(y_true, y_pred):\n",
        "  return K.mean(K.square(y_true - y_pred))\n",
        "\n",
        "model.compile(loss=loss, optimizer=optimizer)"
      ],
      "execution_count": 8,
      "outputs": []
    },
    {
      "cell_type": "markdown",
      "metadata": {
        "id": "xuekW7Vy_ixr"
      },
      "source": [
        "Der Clou ist, dass wir nunmehr statt eines Numpy Arrays den Generator an `model.fit()` übergeben. Daher müssen wir auch das Argument `batch_size` nicht mehr festlegen, denn dafür ist der Generator verantwortlich."
      ]
    },
    {
      "cell_type": "code",
      "metadata": {
        "colab": {
          "base_uri": "https://localhost:8080/"
        },
        "id": "3o8ylibkIU4g",
        "outputId": "a74139fc-0692-4228-f6b2-fdd510882843"
      },
      "source": [
        "model.fit(train_gen, epochs=25)"
      ],
      "execution_count": 13,
      "outputs": [
        {
          "output_type": "stream",
          "text": [
            "Epoch 1/25\n",
            "100/100 [==============================] - 0s 1ms/step - loss: 0.0110\n",
            "Epoch 2/25\n",
            "100/100 [==============================] - 0s 1ms/step - loss: 0.0098\n",
            "Epoch 3/25\n",
            "100/100 [==============================] - 0s 1ms/step - loss: 0.0091\n",
            "Epoch 4/25\n",
            "100/100 [==============================] - 0s 2ms/step - loss: 0.0084\n",
            "Epoch 5/25\n",
            "100/100 [==============================] - 0s 1ms/step - loss: 0.0077\n",
            "Epoch 6/25\n",
            "100/100 [==============================] - 0s 2ms/step - loss: 0.0077\n",
            "Epoch 7/25\n",
            "100/100 [==============================] - 0s 2ms/step - loss: 0.0073\n",
            "Epoch 8/25\n",
            "100/100 [==============================] - 0s 1ms/step - loss: 0.0066\n",
            "Epoch 9/25\n",
            "100/100 [==============================] - 0s 2ms/step - loss: 0.0054\n",
            "Epoch 10/25\n",
            "100/100 [==============================] - 0s 1ms/step - loss: 0.0054\n",
            "Epoch 11/25\n",
            "100/100 [==============================] - 0s 1ms/step - loss: 0.0054\n",
            "Epoch 12/25\n",
            "100/100 [==============================] - 0s 2ms/step - loss: 0.0046\n",
            "Epoch 13/25\n",
            "100/100 [==============================] - 0s 1ms/step - loss: 0.0042\n",
            "Epoch 14/25\n",
            "100/100 [==============================] - 0s 1ms/step - loss: 0.0042\n",
            "Epoch 15/25\n",
            "100/100 [==============================] - 0s 1ms/step - loss: 0.0037\n",
            "Epoch 16/25\n",
            "100/100 [==============================] - 0s 2ms/step - loss: 0.0035\n",
            "Epoch 17/25\n",
            "100/100 [==============================] - 0s 1ms/step - loss: 0.0032\n",
            "Epoch 18/25\n",
            "100/100 [==============================] - 0s 1ms/step - loss: 0.0029\n",
            "Epoch 19/25\n",
            "100/100 [==============================] - 0s 1ms/step - loss: 0.0027\n",
            "Epoch 20/25\n",
            "100/100 [==============================] - 0s 1ms/step - loss: 0.0024\n",
            "Epoch 21/25\n",
            "100/100 [==============================] - 0s 1ms/step - loss: 0.0023\n",
            "Epoch 22/25\n",
            "100/100 [==============================] - 0s 1ms/step - loss: 0.0022\n",
            "Epoch 23/25\n",
            "100/100 [==============================] - 0s 1ms/step - loss: 0.0021\n",
            "Epoch 24/25\n",
            "100/100 [==============================] - 0s 1ms/step - loss: 0.0018\n",
            "Epoch 25/25\n",
            "100/100 [==============================] - 0s 1ms/step - loss: 0.0018\n"
          ],
          "name": "stdout"
        },
        {
          "output_type": "execute_result",
          "data": {
            "text/plain": [
              "<tensorflow.python.keras.callbacks.History at 0x7f9f2ecb9210>"
            ]
          },
          "metadata": {
            "tags": []
          },
          "execution_count": 13
        }
      ]
    },
    {
      "cell_type": "code",
      "metadata": {
        "colab": {
          "base_uri": "https://localhost:8080/",
          "height": 265
        },
        "id": "Xrh8Dm89U_78",
        "outputId": "58b8c0c7-6014-4b61-8df0-daf13325fe1b"
      },
      "source": [
        "from matplotlib import pyplot as plt\n",
        "\n",
        "x = np.linspace(0, math.pi*2, num=100)\n",
        "y_predict = model.predict(x)\n",
        "y_sin = np.sin(x)\n",
        "\n",
        "plt.plot(x,y_predict)\n",
        "plt.plot(x,y_sin)\n",
        "plt.show()"
      ],
      "execution_count": 14,
      "outputs": [
        {
          "output_type": "display_data",
          "data": {
            "image/png": "[encoded data removed]",
            "text/plain": [
              "<Figure size 432x288 with 1 Axes>"
            ]
          },
          "metadata": {
            "tags": [],
            "needs_background": "light"
          }
        }
      ]
    }
  ]
}