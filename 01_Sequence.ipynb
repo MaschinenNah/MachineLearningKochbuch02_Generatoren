{
  "nbformat": 4,
  "nbformat_minor": 0,
  "metadata": {
    "colab": {
      "name": "Generator01_Sequence.ipynb",
      "provenance": [],
      "collapsed_sections": [],
      "authorship_tag": "ABX9TyOBqM9sxJBr9uv2eMNEzYDD",
      "include_colab_link": true
    },
    "kernelspec": {
      "name": "python3",
      "display_name": "Python 3"
    }
  },
  "cells": [
    {
      "cell_type": "markdown",
      "metadata": {
        "id": "view-in-github",
        "colab_type": "text"
      },
      "source": [
        "<a href=\"https://colab.research.google.com/github/MaschinenNah/MachineLearningKochbuch02_Generatoren/blob/main/01_Sequence.ipynb\" target=\"_parent\"><img src=\"https://colab.research.google.com/assets/colab-badge.svg\" alt=\"Open In Colab\"/></a>"
      ]
    },
    {
      "cell_type": "markdown",
      "metadata": {
        "id": "pZSf_y_z5FzF"
      },
      "source": [
        "Wir importieren die Klasse Sequence aus dem tensorflow-Paket:"
      ]
    },
    {
      "cell_type": "code",
      "metadata": {
        "id": "eXljurMD5-Ag"
      },
      "source": [
        "from tensorflow.keras.utils import Sequence"
      ],
      "execution_count": null,
      "outputs": []
    },
    {
      "cell_type": "markdown",
      "metadata": {
        "id": "39WvXqnn5OIU"
      },
      "source": [
        "Sequence stellt eine Schnittstelle bereit, die sich wie eine Liste verhält, aber keine Liste sein muß.\n",
        "\n",
        "Im folgenden definieren wir eine Klasse `FakeList`, die so tut, als ob sie eine Liste mit der Länge `len` ist, deren sämtliche Elemente `value` sind.\n",
        "\n",
        "`FakeList(Sequence)` bedeutet: Wir erweitern die Klasse Sequence, die wiederum die Klasse Iterator erweitern.\n",
        "\n",
        "Jedes Sequence-Objekt (oder deren Erweiterungen) muss die folgenden drei Funktionen bereitstellen, die in bestimmten Situationen aufgerufen werden:\n",
        "\n",
        "*   `__init__`     -> initialisierung (wie immer...)\n",
        "*   `__len__`      -> Länge, also Anzahl Elemente, zum Beispiel bei Abfrage per `len(liste)`\n",
        "*   `__getitem__`  -> Zugriff auf ein Element, zum Beispiel per `liste[index]`\n",
        "\n",
        "\n",
        "\n",
        "\n"
      ]
    },
    {
      "cell_type": "code",
      "metadata": {
        "id": "KsoPZUBN7Igw"
      },
      "source": [
        "class FakeList(Sequence):\n",
        "  \n",
        "  def __init__(self, value, len):\n",
        "    self.value = value\n",
        "    self.len = len\n",
        "    \n",
        "  def __len__(self):\n",
        "    return self.len\n",
        "\n",
        "  def __getitem__(self, index):\n",
        "    if index >= self.len:\n",
        "      raise IndexError(\"list index out of range\")\n",
        "    else:\n",
        "      return self.value"
      ],
      "execution_count": null,
      "outputs": []
    },
    {
      "cell_type": "markdown",
      "metadata": {
        "id": "d2GXnBId68py"
      },
      "source": [
        "Ein FakeList-Objekt, das so tut, als enthalte es siebenmal den Wert 42:"
      ]
    },
    {
      "cell_type": "code",
      "metadata": {
        "id": "eoYdhxLI7PKx"
      },
      "source": [
        "liste = FakeList(\"hallo\", 3)"
      ],
      "execution_count": null,
      "outputs": []
    },
    {
      "cell_type": "markdown",
      "metadata": {
        "id": "gammCez97baH"
      },
      "source": [
        "Wie erwartet: unsere \"Liste\" hat die Länge 7:"
      ]
    },
    {
      "cell_type": "code",
      "metadata": {
        "colab": {
          "base_uri": "https://localhost:8080/"
        },
        "id": "0EeAL1cy7V6P",
        "outputId": "7007b22d-33e2-4bf5-96bc-9a8b5a00d6e7"
      },
      "source": [
        "len(liste)"
      ],
      "execution_count": null,
      "outputs": [
        {
          "output_type": "execute_result",
          "data": {
            "text/plain": [
              "3"
            ]
          },
          "metadata": {
            "tags": []
          },
          "execution_count": 5
        }
      ]
    },
    {
      "cell_type": "markdown",
      "metadata": {
        "id": "MOKQU8oS7n8Y"
      },
      "source": [
        "Zugriff per Index-Operator:"
      ]
    },
    {
      "cell_type": "code",
      "metadata": {
        "colab": {
          "base_uri": "https://localhost:8080/"
        },
        "id": "h1d8dxS37R6t",
        "outputId": "edcbae38-9857-4aa1-8551-872f429eab38"
      },
      "source": [
        "print(liste[0])\n",
        "print(liste[1])"
      ],
      "execution_count": null,
      "outputs": [
        {
          "output_type": "stream",
          "text": [
            "hallo\n",
            "hallo\n"
          ],
          "name": "stdout"
        }
      ]
    },
    {
      "cell_type": "markdown",
      "metadata": {
        "id": "UpSDs7pc7yWj"
      },
      "source": [
        "Auch eine Indexüberschreitung wird ensprechend mit einer Fehlermeldung quittiert:"
      ]
    },
    {
      "cell_type": "code",
      "metadata": {
        "id": "pZbVAdZIwkM-",
        "colab": {
          "base_uri": "https://localhost:8080/",
          "height": 290
        },
        "outputId": "b635e4b3-dda2-4f87-c438-29436cd27b57"
      },
      "source": [
        "print(liste[7])"
      ],
      "execution_count": null,
      "outputs": [
        {
          "output_type": "error",
          "ename": "IndexError",
          "evalue": "ignored",
          "traceback": [
            "\u001b[0;31m---------------------------------------------------------------------------\u001b[0m",
            "\u001b[0;31mIndexError\u001b[0m                                Traceback (most recent call last)",
            "\u001b[0;32m<ipython-input-7-0cedc6ba6064>\u001b[0m in \u001b[0;36m<module>\u001b[0;34m()\u001b[0m\n\u001b[0;32m----> 1\u001b[0;31m \u001b[0mprint\u001b[0m\u001b[0;34m(\u001b[0m\u001b[0mliste\u001b[0m\u001b[0;34m[\u001b[0m\u001b[0;36m7\u001b[0m\u001b[0;34m]\u001b[0m\u001b[0;34m)\u001b[0m\u001b[0;34m\u001b[0m\u001b[0;34m\u001b[0m\u001b[0m\n\u001b[0m",
            "\u001b[0;32m<ipython-input-3-c6fe10ec55ba>\u001b[0m in \u001b[0;36m__getitem__\u001b[0;34m(self, index)\u001b[0m\n\u001b[1;32m     10\u001b[0m   \u001b[0;32mdef\u001b[0m \u001b[0m__getitem__\u001b[0m\u001b[0;34m(\u001b[0m\u001b[0mself\u001b[0m\u001b[0;34m,\u001b[0m \u001b[0mindex\u001b[0m\u001b[0;34m)\u001b[0m\u001b[0;34m:\u001b[0m\u001b[0;34m\u001b[0m\u001b[0;34m\u001b[0m\u001b[0m\n\u001b[1;32m     11\u001b[0m     \u001b[0;32mif\u001b[0m \u001b[0mindex\u001b[0m \u001b[0;34m>=\u001b[0m \u001b[0mself\u001b[0m\u001b[0;34m.\u001b[0m\u001b[0mlen\u001b[0m\u001b[0;34m:\u001b[0m\u001b[0;34m\u001b[0m\u001b[0;34m\u001b[0m\u001b[0m\n\u001b[0;32m---> 12\u001b[0;31m       \u001b[0;32mraise\u001b[0m \u001b[0mIndexError\u001b[0m\u001b[0;34m(\u001b[0m\u001b[0;34m\"list index out of range\"\u001b[0m\u001b[0;34m)\u001b[0m\u001b[0;34m\u001b[0m\u001b[0;34m\u001b[0m\u001b[0m\n\u001b[0m\u001b[1;32m     13\u001b[0m     \u001b[0;32melse\u001b[0m\u001b[0;34m:\u001b[0m\u001b[0;34m\u001b[0m\u001b[0;34m\u001b[0m\u001b[0m\n\u001b[1;32m     14\u001b[0m       \u001b[0;32mreturn\u001b[0m \u001b[0mself\u001b[0m\u001b[0;34m.\u001b[0m\u001b[0mvalue\u001b[0m\u001b[0;34m\u001b[0m\u001b[0;34m\u001b[0m\u001b[0m\n",
            "\u001b[0;31mIndexError\u001b[0m: list index out of range"
          ]
        }
      ]
    },
    {
      "cell_type": "markdown",
      "metadata": {
        "id": "L62BFDTM77mK"
      },
      "source": [
        "Entscheidend ist: wir können die \"Liste\" auch an eine for-Schleife übergeben:"
      ]
    },
    {
      "cell_type": "code",
      "metadata": {
        "colab": {
          "base_uri": "https://localhost:8080/"
        },
        "id": "OqK_yrQc7QrL",
        "outputId": "26fe95d9-a9b7-4639-e9a9-007f6198739c"
      },
      "source": [
        "for value in liste:\n",
        "  print(value)"
      ],
      "execution_count": null,
      "outputs": [
        {
          "output_type": "stream",
          "text": [
            "hallo\n",
            "hallo\n",
            "hallo\n"
          ],
          "name": "stdout"
        }
      ]
    },
    {
      "cell_type": "markdown",
      "metadata": {
        "id": "elYq-W9oWf3H"
      },
      "source": [
        "dies ist nur ein test!!!\n"
      ]
    }
  ]
}